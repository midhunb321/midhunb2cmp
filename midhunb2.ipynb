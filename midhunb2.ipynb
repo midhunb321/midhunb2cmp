{
  "nbformat": 4,
  "nbformat_minor": 0,
  "metadata": {
    "colab": {
      "provenance": []
    },
    "kernelspec": {
      "name": "python3",
      "display_name": "Python 3"
    },
    "language_info": {
      "name": "python"
    }
  },
  "cells": [
    {
      "cell_type": "code",
      "source": [
        "import pandas as pd\n",
        "from sklearn.model_selection import train_test_split\n",
        "from sklearn.preprocessing import StandardScaler, OneHotEncoder\n",
        "from sklearn.impute import SimpleImputer\n",
        "from sklearn.compose import ColumnTransformer\n",
        "from sklearn.pipeline import Pipeline\n",
        "from sklearn.linear_model import LogisticRegression\n",
        "from sklearn.metrics import accuracy_score\n",
        "\n",
        "# Load train and test datasets\n",
        "train_data = pd.read_csv('train.csv')\n",
        "test_data = pd.read_csv('test.csv')\n",
        "\n",
        "# Exploratory Data Analysis (EDA)\n",
        "# ... (perform EDA as needed)\n",
        "\n",
        "# Pre-processing\n",
        "# Separate features and target variable in the training set\n",
        "X_train = train_data.drop(['Loan_Status', 'Loan_ID'], axis=1)\n",
        "y_train = train_data['Loan_Status']\n",
        "\n",
        "# Separate features in the test set\n",
        "X_test = test_data.drop('Loan_ID', axis=1)\n",
        "\n",
        "# Identify categorical columns\n",
        "categorical_columns = [col for col in X_train.columns if X_train[col].dtype == 'object']\n",
        "\n",
        "# Create transformers for numerical and categorical columns\n",
        "numeric_transformer = Pipeline(steps=[\n",
        "    ('imputer', SimpleImputer(strategy='mean')),\n",
        "    ('scaler', StandardScaler())\n",
        "])\n",
        "\n",
        "categorical_transformer = Pipeline(steps=[\n",
        "    ('imputer', SimpleImputer(strategy='most_frequent')),\n",
        "    ('onehot', OneHotEncoder(handle_unknown='ignore'))\n",
        "])\n",
        "\n",
        "# Create a column transformer\n",
        "preprocessor = ColumnTransformer(\n",
        "    transformers=[\n",
        "        ('num', numeric_transformer, X_train.select_dtypes(include=['int64', 'float64']).columns),\n",
        "        ('cat', categorical_transformer, categorical_columns)\n",
        "    ])\n",
        "\n",
        "# Create a pipeline with preprocessor and model\n",
        "model = Pipeline(steps=[('preprocessor', preprocessor),\n",
        "                        ('classifier', LogisticRegression(random_state=42))])\n",
        "\n",
        "# Split the training set into train and validation sets\n",
        "X_train, X_val, y_train, y_val = train_test_split(X_train, y_train, test_size=0.2, random_state=42)\n",
        "\n",
        "# Train the model\n",
        "model.fit(X_train, y_train)\n",
        "\n",
        "# Evaluate the model on the validation set\n",
        "val_predictions = model.predict(X_val)\n",
        "accuracy = accuracy_score(y_val, val_predictions)\n",
        "print(f'Model Accuracy on Validation Set: {accuracy}')\n",
        "\n",
        "# Predictions on Test Dataset\n",
        "test_predictions = model.predict(X_test)\n",
        "\n",
        "# Replace 'Loan_Status' column in the test dataset with predictions\n",
        "test_data['Loan_Status'] = test_predictions\n",
        "\n",
        "# Save the new dataset with predictions as a CSV file\n",
        "test_data[['Loan_ID', 'Loan_Status']].to_csv('submission_results.csv', index=False)\n"
      ],
      "metadata": {
        "colab": {
          "base_uri": "https://localhost:8080/"
        },
        "id": "bV9jACeNHB16",
        "outputId": "4a18a791-cf0f-4585-8798-96f26dab9bac"
      },
      "execution_count": null,
      "outputs": [
        {
          "output_type": "stream",
          "name": "stdout",
          "text": [
            "Model Accuracy on Validation Set: 0.7886178861788617\n"
          ]
        }
      ]
    },
    {
      "cell_type": "code",
      "source": [],
      "metadata": {
        "id": "5Trad0tcHCnB"
      },
      "execution_count": null,
      "outputs": []
    }
  ]
}